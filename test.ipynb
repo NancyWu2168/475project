{
 "cells": [
  {
   "cell_type": "code",
   "execution_count": null,
   "metadata": {},
   "outputs": [
    {
     "name": "stdout",
     "output_type": "stream",
     "text": [
      "(200, 200, 3)\n",
      "(227, 227, 3)\n"
     ]
    }
   ],
   "source": [
    "#coding: utf-8\n",
    "from keras.models import model_from_json\n",
    "import matplotlib.pyplot as plt # plt 用于显示图片\n",
    "import matplotlib.image as mpimg # mpimg 用于读取图片\n",
    "import cv2\n",
    "lena = mpimg.imread('H3.jpg') # 读取和代码处于同一目录下的\n",
    "print(lena.shape)\n",
    "lena = cv2.cvtColor(lena,cv2.COLOR_RGB2GRAY)\n",
    "lena = cv2.resize(lena,(227,227))\n",
    "print(lena.shape)\n",
    "#plt.imshow(lena)\n",
    "import os\n",
    "\n",
    "plt.show()  # 显示图片\n",
    "lena = lena.reshape(-1, 227, 227, 3).astype('float32')\n",
    "lena = lena/255    #统一格式\n",
    "model = model_from_json(open('my_model_architecture.json').read())\n",
    "model.load_weights('my_model_weights.h5')    #加载模型\n",
    "pre=model.predict_classes(lena)   #  预测\n",
    "print(pre)"
   ]
  },
  {
   "cell_type": "code",
   "execution_count": null,
   "metadata": {},
   "outputs": [],
   "source": []
  },
  {
   "cell_type": "code",
   "execution_count": null,
   "metadata": {
    "collapsed": true
   },
   "outputs": [],
   "source": []
  }
 ],
 "metadata": {
  "anaconda-cloud": {},
  "kernelspec": {
   "display_name": "Python 3",
   "language": "python",
   "name": "python3"
  },
  "language_info": {
   "codemirror_mode": {
    "name": "ipython",
    "version": 3
   },
   "file_extension": ".py",
   "mimetype": "text/x-python",
   "name": "python",
   "nbconvert_exporter": "python",
   "pygments_lexer": "ipython3",
   "version": "3.6.5"
  }
 },
 "nbformat": 4,
 "nbformat_minor": 1
}
