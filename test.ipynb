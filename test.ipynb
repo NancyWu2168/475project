{
 "cells": [
  {
   "cell_type": "code",
   "execution_count": 3,
   "metadata": {
    "collapsed": false
   },
   "outputs": [
    {
     "name": "stdout",
     "output_type": "stream",
     "text": [
      "(200, 200, 3)\n",
      "(227, 227, 3)\n",
      "the predict alphabet is H\n"
     ]
    },
    {
     "data": {
      "text/plain": [
       "<function print>"
      ]
     },
     "execution_count": 3,
     "metadata": {},
     "output_type": "execute_result"
    }
   ],
   "source": [
    "#coding: utf-8\n",
    "from keras.models import model_from_json\n",
    "import matplotlib.pyplot as plt # plt is using for showing the images\n",
    "import matplotlib.image as mpimg # mpimg is using for reading the images\n",
    "import cv2\n",
    "lena = mpimg.imread('H1.jpg') # read the test images\n",
    "print(lena.shape) #print the shape and size of the images\n",
    "lena = cv2.resize(lena,(227,227)) #change the size of the images\n",
    "print(lena.shape)\n",
    "#plt.imshow(lena)\n",
    "import os\n",
    "plt.show()  # show images\n",
    "lena = lena.reshape(-1, 227, 227, 3).astype('float32')\n",
    "lena = lena/255    #do normalization\n",
    "model = model_from_json(open('my_model_architecture.json').read()) #upload the model\n",
    "model.load_weights('my_model_weights.h5')    #upload the weights\n",
    "pre=model.predict_classes(lena)   #  predict\n",
    "print('the predict alphabet is {}'.format(pre)) #get the result"
   ]
  },
  {
   "cell_type": "code",
   "execution_count": null,
   "metadata": {
    "collapsed": true
   },
   "outputs": [],
   "source": []
  }
 ],
 "metadata": {
  "anaconda-cloud": {},
  "kernelspec": {
   "display_name": "Python [default]",
   "language": "python",
   "name": "python3"
  },
  "language_info": {
   "codemirror_mode": {
    "name": "ipython",
    "version": 3
   },
   "file_extension": ".py",
   "mimetype": "text/x-python",
   "name": "python",
   "nbconvert_exporter": "python",
   "pygments_lexer": "ipython3",
   "version": "3.5.2"
  }
 },
 "nbformat": 4,
 "nbformat_minor": 1
}
